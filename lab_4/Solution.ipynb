{
 "cells": [
  {
   "cell_type": "code",
   "execution_count": 3,
   "metadata": {},
   "outputs": [],
   "source": [
    "import pandas as pd\n",
    "import numpy as np\n",
    "import itertools"
   ]
  },
  {
   "cell_type": "markdown",
   "metadata": {},
   "source": [
    "## Exercise 3.4\n",
    "\n",
    "Let the following ordinal attributes be given:\n",
    "\n",
    "cloud.cover, levels: clear, scattered, broken, overcast\n",
    "precipitation, levels: none, light, moderate, heavy, extreme\n",
    "wind, levels: calm, light (breeze), moderate (breeze), strong (breeze), gale, storm\n",
    "temperature, levels: cold, chilly, normal, warm, heat\n",
    "In all cases the levels are given from the smallest to the largest.\n",
    "\n",
    "The following objects contains information about weather conditions in Krakow (8 days of November):\n",
    "\n",
    "| cloud.cover | precipitation | Wind | Temperature |\n",
    "|:-----------:|:-------------:|:----:|:-----------:|\n",
    "|overcast\t|light\t|strong\t|chilly|\n",
    "|overcast\t|heavy\t|moderate\t|chilly|\n",
    "|scattered\t|light|\tlight|\tcold|\n",
    "|broken|\tnone|\tlight\t|cold|\n",
    "|broken\t|light\t|light\t|cold|\n",
    "|overcast\t|moderate|\tlight\t|chilly|\n",
    "|scattered\t|none|\tcalm\t|chilly|\n",
    "|overcast|\tlight\t|calm\t|normal|\n",
    "\n",
    "1. Define 4 factors for attributes: cloud.cover, precipitation, wind, and temperature.\n",
    "2. Define weather data frame that contains data from the above table.\n",
    "3. Determine the dissimilarity matrix for these objects using Euclidean metric."
   ]
  },
  {
   "cell_type": "markdown",
   "metadata": {},
   "source": [
    "## Exercise 3.9\n",
    "\n",
    "Consider the following table briefly describing 3 Polish cities in the 'Pomeranian Voivodeship'. Compute both the symmetric and antisymmetric dissimilarities between them. Find the most simmilar cities among them.\n",
    "\n",
    "|City\\Property | >250.000 people | German location | History > 1000 year |Part of 'Trójmiasto' |\n",
    "|:---------:|:---------------:|:--------------:|:----------------:|---------------|\n",
    "|     Gdańsk      |        1         |             1   |         1         |    1           |\n",
    "|     Gdynia      |           1      |  0              |  0                |1               |\n",
    "|     Sopot      |           0      |    1            |  0                |  1             |\n"
   ]
  },
  {
   "cell_type": "code",
   "execution_count": 14,
   "metadata": {},
   "outputs": [],
   "source": [
    "# First, lets define our data\n",
    "gdansk = [1, 1, 1 ,1]\n",
    "gdynia = [1, 0, 0, 1]\n",
    "sopot = [0, 1, 0, 1]\n",
    "cities = [gdansk, gdynia, sopot]\n",
    "\n",
    "cities_df = pd.DataFrame([gdansk, gdynia, sopot], columns=['>250k', 'german location', 'history>1000', 'part of trojmiasto'])"
   ]
  },
  {
   "cell_type": "code",
   "execution_count": 17,
   "metadata": {},
   "outputs": [],
   "source": [
    "# Next, lets define our similarity function\n",
    "def calc_dissimilarity(vec_1, vec_2, mode='symmetric'):\n",
    "    vec_1 = np.asarray(vec_1, dtype=bool)\n",
    "    vec_2 = np.asarray(vec_2, dtype=bool)\n",
    "    f_11 = sum(vec_1&vec_2)\n",
    "    f_10 = sum(vec_1&np.logical_not(vec_2))\n",
    "    f_01 = sum(np.logical_not(vec_1)&vec_2)\n",
    "    if mode == 'symmetric':\n",
    "        f_00 = sum(np.logical_not(vec_1|vec_2))\n",
    "        similarity = (f_01+f_10)/(f_11+ f_10+ f_01+ f_00)\n",
    "    elif mode == 'asymmetric':\n",
    "        similarity = (f_01+f_10)/(f_11+ f_10+ f_01)\n",
    "    return similarity"
   ]
  },
  {
   "cell_type": "code",
   "execution_count": 15,
   "metadata": {},
   "outputs": [
    {
     "data": {
      "text/plain": [
       "array([[0. , 0.5, 0.5],\n",
       "       [0.5, 0. , 0.5],\n",
       "       [0.5, 0.5, 0. ]])"
      ]
     },
     "execution_count": 15,
     "metadata": {},
     "output_type": "execute_result"
    }
   ],
   "source": [
    "#Finally, lets compute the matrices for symmetrical and assymetrical dissimilarity\n",
    "disymm_symmetric_matrix = np.zeros((3, 3))\n",
    "for i, j in itertools.product([0, 1, 2], [0, 1, 2]):\n",
    "    disymm_symmetric_matrix[i, j] = calc_dissimilarity(cities_df.iloc[i], cities_df.iloc[j], 'symmetric')\n",
    "disymm_symmetric_matrix  "
   ]
  },
  {
   "cell_type": "code",
   "execution_count": 16,
   "metadata": {},
   "outputs": [
    {
     "data": {
      "text/plain": [
       "array([[0.        , 0.5       , 0.5       ],\n",
       "       [0.5       , 0.        , 0.66666667],\n",
       "       [0.5       , 0.66666667, 0.        ]])"
      ]
     },
     "execution_count": 16,
     "metadata": {},
     "output_type": "execute_result"
    }
   ],
   "source": [
    "disymm_asymmetric_matrix = np.zeros((3, 3))\n",
    "disymm_asymmetric_matrix\n",
    "for i, j in itertools.product([0, 1, 2], [0, 1, 2]):\n",
    "    disymm_asymmetric_matrix[i, j] = calc_dissimilarity(cities_df.iloc[i], cities_df.iloc[j], 'asymmetric')\n",
    "disymm_asymmetric_matrix  "
   ]
  },
  {
   "cell_type": "code",
   "execution_count": null,
   "metadata": {},
   "outputs": [],
   "source": []
  }
 ],
 "metadata": {
  "kernelspec": {
   "display_name": "Python 3",
   "language": "python",
   "name": "python3"
  },
  "language_info": {
   "codemirror_mode": {
    "name": "ipython",
    "version": 3
   },
   "file_extension": ".py",
   "mimetype": "text/x-python",
   "name": "python",
   "nbconvert_exporter": "python",
   "pygments_lexer": "ipython3",
   "version": "3.7.3"
  }
 },
 "nbformat": 4,
 "nbformat_minor": 2
}
