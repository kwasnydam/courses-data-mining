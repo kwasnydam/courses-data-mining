{
 "cells": [
  {
   "cell_type": "code",
   "execution_count": 2,
   "metadata": {},
   "outputs": [],
   "source": [
    "import pandas as pd\n",
    "import numpy as np\n",
    "import scipy.spatial.distance as sp_dist\n",
    "import itertools"
   ]
  },
  {
   "cell_type": "markdown",
   "metadata": {},
   "source": [
    "# Exercise 3.2\n",
    "Consider two vectors: `v1 = c(1,2,3,4,5,6)`, `v2 = c(-4,-5,-6,-6,6,7)`. Compute the distance between them using:\n",
    "\n",
    "* Euclidean metric\n",
    "* Canberra metric\n",
    "* Minkowski metrics (p = 2, p = 3)\n",
    "* Manhattan metric\n",
    "* Maximum metric\n",
    "\n",
    "Compare the results. Explain the similarity between distances in Euclidean metrics and the Minkowski one for p = 2, and the Manhattan metric and the Minkowski one for p = 1. Why R-computation is feasible even if the length of vectors is different?\n"
   ]
  },
  {
   "cell_type": "code",
   "execution_count": 3,
   "metadata": {},
   "outputs": [],
   "source": [
    "v1 = np.asarray([1, 2, 3, 4, 5, 6])\n",
    "v2 = np.asarray([-4, -5, -6, -6, 6, 7])\n",
    "\n",
    "# framework computations\n",
    "sp_euclidean = sp_dist.euclidean(v1, v2)\n",
    "sp_canberra = sp_dist.canberra(v1, v2)\n",
    "sp_minkowski_p2 = sp_dist.minkowski(v1, v2, p=2)\n",
    "sp_minkowski_p3 = sp_dist.minkowski(v1, v2, p=3)\n",
    "sp_manhattan = sp_dist.cityblock(v1, v2)\n",
    "sp_maximum = sp_dist.chebyshev(v1, v2)"
   ]
  },
  {
   "cell_type": "code",
   "execution_count": 12,
   "metadata": {},
   "outputs": [],
   "source": [
    "# own implementations\n",
    "def euclidean(v1, v2):\n",
    "    \"\"\"Computes the euclidean distance between vectors v1 and v2\"\"\"\n",
    "    return np.sqrt(np.sum(np.square(v1 - v2)))\n",
    "\n",
    "def manhattan(v1, v2):\n",
    "    \"\"\"Computes the manhattan (city block) distance between vectors v1 and v2\"\"\"\n",
    "    return np.sum(np.abs(v1 - v2))\n",
    "\n",
    "def minkowski(v1, v2, p=2):\n",
    "    \"\"\"Computes minkowski distance between vecotrs v1 and v2\"\"\"\n",
    "    return np.power(np.sum(np.power(np.abs(v1 - v2), p)), 1/p)\n",
    "\n",
    "own_euclidean = euclidean(v1, v2)\n",
    "own_manhattan = manhattan(v1, v2)\n",
    "own_minkowski_p2 = minkowski(v1, v2, 2)\n",
    "own_minkowski_p3 = minkowski(v1, v2, 3)"
   ]
  },
  {
   "cell_type": "code",
   "execution_count": 19,
   "metadata": {},
   "outputs": [
    {
     "name": "stdout",
     "output_type": "stream",
     "text": [
      "Framework results\t: euclidean=16.03, manhattan=33.00, minkowski_p2=16.03, minkowski_p3=13.00\n",
      "Own results\t\t: euclidean=16.03, manhattan=33.00, minkowski_p2=16.03, minkowski_p3=13.00\n"
     ]
    }
   ],
   "source": [
    "# present the results\n",
    "print('Framework results\\t: euclidean={:.2f}, manhattan={:.2f}, minkowski_p2={:.2f}, minkowski_p3={:.2f}'.format(\n",
    "    sp_euclidean, sp_manhattan, sp_minkowski_p2, sp_minkowski_p3\n",
    "))\n",
    "print('Own results\\t\\t: euclidean={:.2f}, manhattan={:.2f}, minkowski_p2={:.2f}, minkowski_p3={:.2f}'.format(\n",
    "    own_euclidean, own_manhattan, own_minkowski_p2, own_minkowski_p3\n",
    "))"
   ]
  },
  {
   "cell_type": "markdown",
   "metadata": {},
   "source": [
    "## Exercise 3.4\n",
    "\n",
    "Let the following ordinal attributes be given:\n",
    "\n",
    "cloud.cover, levels: clear, scattered, broken, overcast\n",
    "precipitation, levels: none, light, moderate, heavy, extreme\n",
    "wind, levels: calm, light (breeze), moderate (breeze), strong (breeze), gale, storm\n",
    "temperature, levels: cold, chilly, normal, warm, heat\n",
    "In all cases the levels are given from the smallest to the largest.\n",
    "\n",
    "The following objects contains information about weather conditions in Krakow (8 days of November):\n",
    "\n",
    "| cloud.cover | precipitation | Wind | Temperature |\n",
    "|:-----------:|:-------------:|:----:|:-----------:|\n",
    "|overcast\t|light\t|strong\t|chilly|\n",
    "|overcast\t|heavy\t|moderate\t|chilly|\n",
    "|scattered\t|light|\tlight|\tcold|\n",
    "|broken|\tnone|\tlight\t|cold|\n",
    "|broken\t|light\t|light\t|cold|\n",
    "|overcast\t|moderate|\tlight\t|chilly|\n",
    "|scattered\t|none|\tcalm\t|chilly|\n",
    "|overcast|\tlight\t|calm\t|normal|\n",
    "\n",
    "1. Define 4 factors for attributes: cloud.cover, precipitation, wind, and temperature.\n",
    "2. Define weather data frame that contains data from the above table.\n",
    "3. Determine the dissimilarity matrix for these objects using Euclidean metric."
   ]
  },
  {
   "cell_type": "markdown",
   "metadata": {},
   "source": [
    "## Exercise 3.9\n",
    "\n",
    "Consider the following table briefly describing 3 Polish cities in the 'Pomeranian Voivodeship'. Compute both the symmetric and antisymmetric dissimilarities between them. Find the most simmilar cities among them.\n",
    "\n",
    "|City\\Property | >250.000 people | German location | History > 1000 year |Part of 'Trójmiasto' |\n",
    "|:---------:|:---------------:|:--------------:|:----------------:|---------------|\n",
    "|     Gdańsk      |        1         |             1   |         1         |    1           |\n",
    "|     Gdynia      |           1      |  0              |  0                |1               |\n",
    "|     Sopot      |           0      |    1            |  0                |  1             |\n"
   ]
  },
  {
   "cell_type": "code",
   "execution_count": 14,
   "metadata": {},
   "outputs": [],
   "source": [
    "# First, lets define our data\n",
    "gdansk = [1, 1, 1 ,1]\n",
    "gdynia = [1, 0, 0, 1]\n",
    "sopot = [0, 1, 0, 1]\n",
    "cities = [gdansk, gdynia, sopot]\n",
    "\n",
    "cities_df = pd.DataFrame([gdansk, gdynia, sopot], columns=['>250k', 'german location', 'history>1000', 'part of trojmiasto'])"
   ]
  },
  {
   "cell_type": "code",
   "execution_count": 17,
   "metadata": {},
   "outputs": [],
   "source": [
    "# Next, lets define our similarity function\n",
    "def calc_dissimilarity(vec_1, vec_2, mode='symmetric'):\n",
    "    vec_1 = np.asarray(vec_1, dtype=bool)\n",
    "    vec_2 = np.asarray(vec_2, dtype=bool)\n",
    "    f_11 = sum(vec_1&vec_2)\n",
    "    f_10 = sum(vec_1&np.logical_not(vec_2))\n",
    "    f_01 = sum(np.logical_not(vec_1)&vec_2)\n",
    "    if mode == 'symmetric':\n",
    "        f_00 = sum(np.logical_not(vec_1|vec_2))\n",
    "        similarity = (f_01+f_10)/(f_11+ f_10+ f_01+ f_00)\n",
    "    elif mode == 'asymmetric':\n",
    "        similarity = (f_01+f_10)/(f_11+ f_10+ f_01)\n",
    "    return similarity"
   ]
  },
  {
   "cell_type": "code",
   "execution_count": 15,
   "metadata": {},
   "outputs": [
    {
     "data": {
      "text/plain": [
       "array([[0. , 0.5, 0.5],\n",
       "       [0.5, 0. , 0.5],\n",
       "       [0.5, 0.5, 0. ]])"
      ]
     },
     "execution_count": 15,
     "metadata": {},
     "output_type": "execute_result"
    }
   ],
   "source": [
    "#Finally, lets compute the matrices for symmetrical and assymetrical dissimilarity\n",
    "disymm_symmetric_matrix = np.zeros((3, 3))\n",
    "for i, j in itertools.product([0, 1, 2], [0, 1, 2]):\n",
    "    disymm_symmetric_matrix[i, j] = calc_dissimilarity(cities_df.iloc[i], cities_df.iloc[j], 'symmetric')\n",
    "disymm_symmetric_matrix  "
   ]
  },
  {
   "cell_type": "code",
   "execution_count": 16,
   "metadata": {},
   "outputs": [
    {
     "data": {
      "text/plain": [
       "array([[0.        , 0.5       , 0.5       ],\n",
       "       [0.5       , 0.        , 0.66666667],\n",
       "       [0.5       , 0.66666667, 0.        ]])"
      ]
     },
     "execution_count": 16,
     "metadata": {},
     "output_type": "execute_result"
    }
   ],
   "source": [
    "disymm_asymmetric_matrix = np.zeros((3, 3))\n",
    "disymm_asymmetric_matrix\n",
    "for i, j in itertools.product([0, 1, 2], [0, 1, 2]):\n",
    "    disymm_asymmetric_matrix[i, j] = calc_dissimilarity(cities_df.iloc[i], cities_df.iloc[j], 'asymmetric')\n",
    "disymm_asymmetric_matrix  "
   ]
  },
  {
   "cell_type": "code",
   "execution_count": null,
   "metadata": {},
   "outputs": [],
   "source": []
  }
 ],
 "metadata": {
  "kernelspec": {
   "display_name": "Python 3",
   "language": "python",
   "name": "python3"
  },
  "language_info": {
   "codemirror_mode": {
    "name": "ipython",
    "version": 3
   },
   "file_extension": ".py",
   "mimetype": "text/x-python",
   "name": "python",
   "nbconvert_exporter": "python",
   "pygments_lexer": "ipython3",
   "version": "3.7.0"
  }
 },
 "nbformat": 4,
 "nbformat_minor": 2
}
